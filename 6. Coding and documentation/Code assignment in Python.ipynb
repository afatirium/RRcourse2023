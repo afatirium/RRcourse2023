{
 "cells": [
  {
   "cell_type": "markdown",
   "id": "d06205f0",
   "metadata": {},
   "source": [
    "# Cleaning the code - Assingment class on 30March23"
   ]
  },
  {
   "cell_type": "raw",
   "id": "30f592f5",
   "metadata": {},
   "source": [
    "I used Chat GPT for some part of the task."
   ]
  },
  {
   "cell_type": "code",
   "execution_count": 16,
   "id": "32142c1b",
   "metadata": {},
   "outputs": [],
   "source": [
    "#import libraries\n",
    "import os\n",
    "import pandas as pd\n",
    "import numpy as np\n",
    "import re\n",
    "from scipy.stats import gmean\n",
    "from scipy import stats\n",
    "import matplotlib.pyplot as plt"
   ]
  },
  {
   "cell_type": "code",
   "execution_count": 17,
   "id": "e098e003",
   "metadata": {},
   "outputs": [],
   "source": [
    "# Sets the path to the parent directory of RR classes\n",
    "os.chdir(\"C:\\\\Users\\\\Afat\\\\Documents\\\\UW - MASTER\\\\1Y2S\\\\RR\\\\RRcourse2023\\\\6. Coding and documentation\")"
   ]
  },
  {
   "cell_type": "code",
   "execution_count": 18,
   "id": "3b8e5b15",
   "metadata": {},
   "outputs": [],
   "source": [
    "# Import data from the O*NET database, at ISCO-08 occupation level.\n",
    "# The original data uses a version of SOC classification, but the data we load here\n",
    "# are already cross-walked to ISCO-08 using: https://ibs.org.pl/en/resources/occupation-classifications-crosswalks-from-onet-soc-to-isco/\n",
    "\n",
    "# The O*NET database contains information for occupations in the USA, including\n",
    "# the tasks and activities typically associated with a specific occupation.\n",
    "\n",
    "task_data = pd.read_csv(\"Data\\\\onet_tasks.csv\")"
   ]
  },
  {
   "cell_type": "code",
   "execution_count": 19,
   "id": "4224a4fc",
   "metadata": {},
   "outputs": [],
   "source": [
    "# isco08 variable is for occupation codes\n",
    "# the t_* variables are specific tasks conducted on the job\n",
    "\n",
    "# read employment data from Eurostat\n",
    "# These datasets include quarterly information on the number of workers in specific\n",
    "# 1-digit ISCO occupation categories. (Check here for details: https://www.ilo.org/public/english/bureau/stat/isco/isco08/)\n",
    "\n",
    "# Read the Excel file\n",
    "df = pd.read_excel(\"Data\\\\Eurostat_employment_isco.xlsx\", sheet_name=None)\n",
    "\n",
    "# Calculate worker totals for each country\n",
    "countries = [\"Belgium\", \"Spain\", \"Poland\"]\n",
    "totals = {}\n",
    "for country in countries:\n",
    "    total = sum([df[f\"ISCO{i}\"][country] for i in range(1, 10)])\n",
    "    totals[country] = total"
   ]
  },
  {
   "cell_type": "code",
   "execution_count": 20,
   "id": "7ee0bbd1",
   "metadata": {},
   "outputs": [],
   "source": [
    "# Add ISCO column to each sheet and merge\n",
    "dfs = []\n",
    "for i, sheet_name in enumerate(df.keys()):\n",
    "    sheet_df = df[sheet_name]\n",
    "    sheet_df[\"ISCO\"] = i+1\n",
    "    dfs.append(sheet_df)\n",
    "all_data = pd.concat(dfs, ignore_index=True)\n",
    "\n",
    "# Calculate totals for each country\n",
    "countries = [\"Belgium\", \"Spain\", \"Poland\"]\n",
    "totals = {}\n",
    "for country in countries:\n",
    "    total = all_data[all_data[country].notnull()].groupby(\"ISCO\")[country].sum()\n",
    "    totals[country] = total\n",
    "\n",
    "# Calculate shares for each country\n",
    "for country in countries:\n",
    "    all_data[f\"share_{country}\"] = all_data[country] / totals[country][all_data[\"ISCO\"]].reset_index(drop=True)\n",
    "\n"
   ]
  },
  {
   "cell_type": "code",
   "execution_count": 21,
   "id": "87050c9e",
   "metadata": {},
   "outputs": [],
   "source": [
    "# Now let's look at the task data. We want the first digit of the ISCO variable only\n",
    "\n",
    "task_data[\"isco08_1dig\"] = task_data[\"isco08\"].astype(str).str[:1].astype(int)\n",
    "\n",
    "# And we'll calculate the mean task values at a 1-digit level \n",
    "# (more on what these tasks are below)\n",
    "aggdata = task_data.groupby([\"isco08_1dig\"]).mean().drop(columns=[\"isco08\"])\n",
    "\n",
    "\n",
    "# We'll be interested in tracking the intensity of Non-routine cognitive analytical tasks\n",
    "# Using a framework reminiscent of the work by David Autor.\n",
    "\n",
    "#These are the ones we're interested in:\n",
    "# Non-routine cognitive analytical\n",
    "# 4.A.2.a.4 Analyzing Data or Information\n",
    "# 4.A.2.b.2 Thinking Creatively\n",
    "# 4.A.4.a.1 Interpreting the Meaning of Information for Others\n",
    "\n",
    "#Let's combine the data.\n",
    "combined = pd.merge(all_data, aggdata, left_on='ISCO', right_on='isco08_1dig', how='left')\n",
    "# Traditionally, the first step is to standardize the task values using weights \n",
    "# defined by share of occupations in the labor force. This should be done separately\n",
    "# for each country. Standardization -> getting the mean to 0 and std. dev. to 1.\n",
    "\n",
    "# Let's do this for each of the variables that interest us:\n",
    "countries = [\"Belgium\", \"Poland\", \"Spain\"]\n",
    "\n",
    "for task_item in [\"t_4A2a4\", \"t_4A2b2\", \"t_4A4a1\"]:\n",
    "    for country in countries:\n",
    "        # Standardize the task value for this country and task item\n",
    "        task_colname = f\"{country}_std_{task_item}\"\n",
    "        weights_colname = f\"share_{country}\"\n",
    "        \n",
    "        temp_mean = np.average(combined[task_item], weights=combined[weights_colname])\n",
    "        temp_sd = np.sqrt(np.average((combined[task_item] - temp_mean)**2, weights=combined[weights_colname]))\n",
    "        combined[task_colname] = (combined[task_item] - temp_mean) / temp_sd\n"
   ]
  },
  {
   "cell_type": "code",
   "execution_count": 22,
   "id": "51ea53d6",
   "metadata": {},
   "outputs": [],
   "source": [
    "\n",
    "task_items = [[\"t_4A2a4\", \"std_Belgium_t_4A2a4\", \"std_Poland_t_4A2a4\", \"std_Spain_t_4A2a4\"],\n",
    "              [\"t_4A2b2\", \"std_Belgium_t_4A2b2\", \"std_Poland_t_4A2b2\", \"std_Spain_t_4A2b2\"],\n",
    "              [\"t_4A4a1\", \"std_Belgium_t_4A4a1\", \"std_Poland_t_4A4a1\", \"std_Spain_t_4A4a1\"]]\n",
    "\n",
    "for task in task_items:\n",
    "    task_name, std_belgium_name, std_poland_name, std_spain_name = task\n",
    "    for country in [\"Belgium\", \"Poland\", \"Spain\"]:\n",
    "        temp_mean = np.average(combined[task_name], weights=combined[f\"share_{country}\"])\n",
    "        temp_sd = np.sqrt(np.average((combined[task_name] - temp_mean)**2, weights=combined[f\"share_{country}\"]))\n",
    "        combined[f\"{eval('std_'+country.lower()+'_name')}\"] = (combined[task_name] - temp_mean) / temp_sd\n"
   ]
  },
  {
   "cell_type": "code",
   "execution_count": 24,
   "id": "71354221",
   "metadata": {},
   "outputs": [
    {
     "data": {
      "image/png": "[encoded data removed]",
      "text/plain": [
       "<Figure size 432x288 with 1 Axes>"
      ]
     },
     "metadata": {
      "needs_background": "light"
     },
     "output_type": "display_data"
    },
    {
     "data": {
      "image/png": "[encoded data removed]",
      "text/plain": [
       "<Figure size 432x288 with 1 Axes>"
      ]
     },
     "metadata": {
      "needs_background": "light"
     },
     "output_type": "display_data"
    },
    {
     "data": {
      "image/png": "[encoded data removed]",
      "text/plain": [
       "<Figure size 432x288 with 1 Axes>"
      ]
     },
     "metadata": {
      "needs_background": "light"
     },
     "output_type": "display_data"
    }
   ],
   "source": [
    "country_codes = [\"Spain\", \"Belgium\", \"Poland\"]\n",
    "tasks = [\"4A2a4\", \"4A2b2\", \"4A4a1\"]\n",
    "\n",
    "for country in country_codes:\n",
    "    combined[f\"{country}_NRCA\"] = combined[[f\"std_{country}_t_{task}\" for task in tasks]].sum(axis=1)\n",
    "\n",
    "# Standardise NRCA for each country\n",
    "for country in country_codes:\n",
    "    temp_mean = np.average(combined[f\"{country}_NRCA\"], weights=combined[f\"share_{country}\"])\n",
    "    temp_sd = np.sqrt(np.average((combined[f\"{country}_NRCA\"] - temp_mean)**2, weights=combined[f\"share_{country}\"]))\n",
    "    combined[f\"std_{country}_NRCA\"] = (combined[f\"{country}_NRCA\"] - temp_mean) / temp_sd\n",
    "\n",
    "# Calculate country-level means\n",
    "for country in country_codes:\n",
    "    # Multiply by the share of workers\n",
    "    combined[f\"multip_{country}_NRCA\"] = combined[f\"std_{country}_NRCA\"] * combined[f\"share_{country}\"]\n",
    "    \n",
    "    # Calculate the weighted sum\n",
    "    agg_country = combined.groupby([\"TIME\"])[f\"multip_{country}_NRCA\"].sum().reset_index()\n",
    "    \n",
    "    # Plot the data\n",
    "    plt.plot(agg_country[\"TIME\"], agg_country[f\"multip_{country}_NRCA\"])\n",
    "    plt.xticks(range(0, len(agg_country), 2), agg_country[\"TIME\"][::2], rotation=90)\n",
    "    plt.title(f\"{country} NRCA\")\n",
    "    plt.show()\n"
   ]
  }
 ],
 "metadata": {
  "kernelspec": {
   "display_name": "Python 3 (ipykernel)",
   "language": "python",
   "name": "python3"
  },
  "language_info": {
   "codemirror_mode": {
    "name": "ipython",
    "version": 3
   },
   "file_extension": ".py",
   "mimetype": "text/x-python",
   "name": "python",
   "nbconvert_exporter": "python",
   "pygments_lexer": "ipython3",
   "version": "3.9.7"
  }
 },
 "nbformat": 4,
 "nbformat_minor": 5
}
